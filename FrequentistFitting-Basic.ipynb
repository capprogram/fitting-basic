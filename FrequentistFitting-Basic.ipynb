{
 "cells": [
  {
   "cell_type": "markdown",
   "metadata": {},
   "source": [
    "# Parameter Estimation by Maximum Likelihood Model Fitting \n",
    "\n",
    "Introductory tutorial on frequentist fitting by maximum likelihood estimation, to be completed with reference to [these companion slides](https://github.com/capprogram/fitting-basic/blob/master/MaximumLikelihoodBasics.pdf).\n",
    "\n",
    "Most recent version by Sheila Kannappan November 2019, with prior contributions from Kathleen Eckert, Rohan Isaac, and Amy Oldenberg."
   ]
  }
 ],
 "metadata": {
  "kernelspec": {
   "display_name": "Python 3",
   "language": "python",
   "name": "python3"
  },
  "language_info": {
   "codemirror_mode": {
    "name": "ipython",
    "version": 3
   },
   "file_extension": ".py",
   "mimetype": "text/x-python",
   "name": "python",
   "nbconvert_exporter": "python",
   "pygments_lexer": "ipython3",
   "version": "3.6.3"
  }
 },
 "nbformat": 4,
 "nbformat_minor": 2
}
